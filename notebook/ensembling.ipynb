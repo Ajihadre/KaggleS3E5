{
 "cells": [
  {
   "cell_type": "code",
   "execution_count": null,
   "id": "7eb6891e-28d6-41d0-b22f-5b93dc95eebf",
   "metadata": {},
   "outputs": [],
   "source": [
    "import matplotlib as plt\n",
    "import pandas as pd\n",
    "import numpy as np\n",
    "from sklearn.model_selection import train_test_split\n",
    "from sklearn.metrics import cohen_kappa_score\n",
    "from sklearn.decomposition import PCA\n",
    "from sklearn.metrics import classification_report\n",
    "from sklearn.preprocessing import StandardScaler\n",
    "# Modeling imports\n",
    "from sklearn.ensemble import RandomForestClassifier\n",
    "from xgboost  import XGBClassifier\n",
    "from lightgbm import LGBMClassifier, early_stopping, log_evaluation\n",
    "from sklearn.model_selection import StratifiedKFold\n",
    "import optuna\n",
    "from optuna.samplers import TPESampler\n",
    "import numpy as np\n",
    "\n",
    "path = \"/Users/tcaron/Documents/Python Scripts/KaggleS3E5/data/\"\n",
    "\n",
    "train = pd.read_csv(path+\"train.csv\")\n",
    "test = pd.read_csv(path+\"test.csv\")\n",
    "origin = pd.read_csv(path+\"WineQT.csv\")"
   ]
  },
  {
   "cell_type": "code",
   "execution_count": null,
   "id": "7e004447-0bac-4a0c-9524-af8dc137b3c1",
   "metadata": {},
   "outputs": [],
   "source": [
    "def SelfSplitTrain(df,test_size=0.2):\n",
    "    X = df.drop(columns=[\"Id\",\"quality\"])\n",
    "    y = df[[\"quality\"]].values\n",
    "    X_train, X_val, y_train, y_val = train_test_split(X,y,test_size=test_size,random_state=42)\n",
    "    return (X_train, X_val, y_train, y_val)"
   ]
  },
  {
   "cell_type": "code",
   "execution_count": null,
   "id": "67da9ad6-6738-43a6-9976-2b3728efb077",
   "metadata": {},
   "outputs": [],
   "source": [
    "def pca(train,test,columns=[\"pH\",\"fixed acidity\"]):\n",
    "    target = \"quality\"\n",
    "    df_trn = train.copy(deep = True)\n",
    "    df_tst = test.copy(deep = True)\n",
    "    df_trn[target] = df_trn[target].map({3:0,\n",
    "                    4:1,\n",
    "                    5:2,\n",
    "                    6:3,\n",
    "                    7:4,\n",
    "                    8:5})\n",
    "    pca_ = PCA(n_components=1 ,whiten= False)\n",
    "    df_trn[\"pca_1\"] = pca_.fit_transform(df_trn[columns])\n",
    "    df_tst[\"pca_1\"] = pca_.fit_transform(df_tst[columns])\n",
    "    \n",
    "    for cols in columns:\n",
    "        for df in [df_trn,df_tst]:\n",
    "            df.drop(cols, axis =1, inplace = True)\n",
    "    return (df_trn,df_tst)\n",
    "\n",
    "def sortie_prep(y_pred):\n",
    "    return y_pred +3"
   ]
  },
  {
   "cell_type": "code",
   "execution_count": null,
   "id": "6046436a-eafc-462a-87a9-efb193d317f3",
   "metadata": {},
   "outputs": [],
   "source": [
    "features = ['fixed acidity', 'volatile acidity', 'citric acid',\n",
    "       'residual sugar', 'chlorides', 'free sulfur dioxide',\n",
    "       'total sulfur dioxide', 'density', 'pH', 'sulphates', 'alcohol']"
   ]
  },
  {
   "cell_type": "code",
   "execution_count": null,
   "id": "45e4f2b8-c2f3-43b6-8c6e-c104b8349e10",
   "metadata": {},
   "outputs": [],
   "source": [
    "Id = test[[\"Id\"]]\n",
    "train = pd.concat([train,origin],ignore_index=True)"
   ]
  },
  {
   "cell_type": "raw",
   "id": "e7503736-6d13-4d6d-8955-e6e148aff03d",
   "metadata": {},
   "source": [
    "#Joue contre nous, à ne pas faire\n",
    "outliers = train.loc[train['volatile acidity'] > 1.4]\n",
    "outliers = pd.concat([outliers, train.loc[train['citric acid'] > 0.9]], axis=0)\n",
    "outliers = pd.concat([outliers, train.loc[train['chlorides'] > 0.5]], axis=0)\n",
    "outliers = pd.concat([outliers, train.loc[train['free sulfur dioxide'] > 60]], axis=0)\n",
    "outliers = pd.concat([outliers, train.loc[train['total sulfur dioxide'] > 200]], axis=0)\n",
    "outliers = pd.concat([outliers, train.loc[train['sulphates'] > 1.75]], axis=0)\n",
    "outliers = pd.concat([outliers, train.loc[train['alcohol'] > 14]], axis=0)\n",
    "outliers = outliers[~outliers.duplicated()]\n",
    "train = train.drop(outliers.index)"
   ]
  },
  {
   "cell_type": "code",
   "execution_count": null,
   "id": "441ca9f7-6c55-4ea1-b52e-004dcef2256d",
   "metadata": {},
   "outputs": [],
   "source": [
    "scaler = StandardScaler()\n",
    "train[features] = scaler.fit_transform(train[features])\n",
    "test[features] = scaler.transform(test[features])\n"
   ]
  },
  {
   "cell_type": "code",
   "execution_count": null,
   "id": "d697b3e9-a4c6-47a6-bb36-fcfb9cd79030",
   "metadata": {},
   "outputs": [],
   "source": [
    "train,test= pca(train, test)\n",
    "X_test = test.drop(columns = \"Id\")\n",
    "X_train,X_val,y_train,y_val = SelfSplitTrain(train)"
   ]
  },
  {
   "cell_type": "raw",
   "id": "692b43de-cfe2-4f85-a5dd-a93177ddf846",
   "metadata": {},
   "source": [
    "from warnings import simplefilter\n",
    "simplefilter(\"ignore\", category=RuntimeWarning)\n",
    "def objective(trial):\n",
    "    target_clases = train[\"quality\"].value_counts()\n",
    "    n_classes = target_clases.nunique()\n",
    "    params_optuna = {\n",
    "            'max_depth': trial.suggest_int('max_depth', 1, 10),\n",
    "            'learning_rate': trial.suggest_float('learning_rate', 0.01, 1.0),\n",
    "            'n_estimators': trial.suggest_int('n_estimators', 50, 1000),\n",
    "            'min_child_weight': trial.suggest_int('min_child_weight', 1, 10),\n",
    "            'gamma': trial.suggest_float('gamma', 0.01, 1.0),\n",
    "            'subsample': trial.suggest_float('subsample', 0.5, 1.0),\n",
    "            'colsample_bytree': trial.suggest_float('colsample_bytree', 0.5, 1.0),\n",
    "            'reg_alpha': trial.suggest_float('reg_alpha', 0.0001, 1.0),\n",
    "            'reg_lambda': trial.suggest_float('reg_lambda', 0.0001, 1.0),\n",
    "            'objective' : \" multi:softmax\",\n",
    "            'num_class': n_classes,\n",
    "        }\n",
    "    \n",
    "    n=trial.suggest_int('n_cv', 3, 10)\n",
    "    cv = StratifiedKFold(n,shuffle=True, random_state=42)\n",
    "    fold_scores = []\n",
    "    model = XGBClassifier(**params_optuna)\n",
    "    model.fit(X_train,\n",
    "              y_train,\n",
    "              eval_set= [(X_val,y_val)],\n",
    "              early_stopping_rounds = 50,\n",
    "              verbose=500)\n",
    "\n",
    "    pred_val = model.predict(X_val)\n",
    "\n",
    "    score = cohen_kappa_score(y_val,pred_val, weights='quadratic')\n",
    "    fold_scores.append(score)\n",
    "    return np.mean(fold_scores)\n",
    "\n",
    "\n",
    "study = optuna.create_study(direction='maximize', sampler = TPESampler())\n",
    "study.optimize(func=objective, n_trials=1000)\n",
    "print(study.best_params)"
   ]
  },
  {
   "cell_type": "code",
   "execution_count": null,
   "id": "6984895b-117c-4ec9-b3ce-93843f3b6605",
   "metadata": {},
   "outputs": [],
   "source": [
    "params_xgb = {'max_depth': 10,\n",
    "              'learning_rate': 0.18859091410143083,\n",
    "              'n_estimators': 320,\n",
    "              'min_child_weight': 1,\n",
    "              'gamma': 0.9318564324675482,\n",
    "              'subsample': 0.6841357312658527,\n",
    "              'colsample_bytree': 0.8836216247106674,\n",
    "              'reg_alpha': 0.04096397785344959,\n",
    "              'reg_lambda': 0.738301353005302,\n",
    "              'n_cv': 9}\n",
    "#0.5913996743158005."
   ]
  },
  {
   "cell_type": "raw",
   "id": "958ed3be-ef84-4c7c-8c74-eef23ab8cebd",
   "metadata": {},
   "source": [
    "{'max_depth': 3, 'learning_rate': 0.8556313178954359, 'n_estimators': 88, 'min_child_weight': 6, 'gamma': 0.4919156565210436, 'subsample': 0.7578175105327075, 'colsample_bytree': 0.8445913737915325, 'reg_alpha': 0.12218618491886471, 'reg_lambda': 0.38518097123010564, 'n_cv': 6}\n",
    "0.5844221863904621."
   ]
  },
  {
   "cell_type": "markdown",
   "id": "01763963-7b86-43ec-a934-90a45f673fcc",
   "metadata": {},
   "source": [
    "{'max_depth': 6, 'learning_rate': 0.39948345445210615, 'n_estimators': 847, 'min_child_weight': 10, 'gamma': 0.18838201293419432, 'subsample': 0.7729886713513907, 'colsample_bytree': 0.5003328515340764, 'reg_alpha': 0.2714649065502258, 'reg_lambda': 0.6491207694721693, 'n_cv': 6}\n",
    "0.5448889729142714"
   ]
  },
  {
   "cell_type": "markdown",
   "id": "21b075c9-ca8b-468a-bc83-1b2bca1477b0",
   "metadata": {},
   "source": [
    "{'max_depth': 10, 'learning_rate': 0.20768479698089887, 'n_estimators': 309, 'min_child_weight': 2, 'gamma': 0.031486067400704275, 'subsample': 0.9058671425260246, 'colsample_bytree': 0.5887713288141307, 'reg_alpha': 0.16442203655476706, 'reg_lambda': 0.3344072924469446, 'n_cv': 10}\n",
    "0.5872138165056959."
   ]
  },
  {
   "cell_type": "raw",
   "id": "3e4bf8c5-6af8-4b68-b7eb-223dc85f7d6d",
   "metadata": {},
   "source": [
    "def objective2(trial):\n",
    "    target_clases = train[\"quality\"].value_counts()\n",
    "    n_classes = target_clases.nunique()\n",
    "    params_optuna = {\n",
    "            'lambda_l1': trial.suggest_float('lambda_l1', 0, 1),\n",
    "             'lambda_l2': trial.suggest_float('lambda_l2', 1, 10),\n",
    "             'num_leaves': trial.suggest_int('num_leaves', 40, 60),\n",
    "             'feature_fraction': trial.suggest_float('feature_fraction', 0, 1),\n",
    "             'bagging_fraction': trial.suggest_float('bagging_fraction', 0, 1),\n",
    "             'bagging_freq': trial.suggest_int('bagging_freq', 1, 10),\n",
    "             'min_child_samples': trial.suggest_int('min_child_samples', 1, 100),\n",
    "             'min_data_in_leaf': trial.suggest_int('min_data_in_leaf', 1, 100),\n",
    "             'max_depth': trial.suggest_int('max_depth', 1, 20),\n",
    "             'num_iterations':trial.suggest_int('num_iterations', 100, 10000),\n",
    "             'objective' : \"multiclass\",\n",
    "             'metric' :'multi_logloss',\n",
    "        }\n",
    "    \n",
    "    n=trial.suggest_int('n_cv', 3, 10)\n",
    "    cv = StratifiedKFold(n,shuffle=True, random_state=42)\n",
    "    fold_scores = []\n",
    "    model = LGBMClassifier(**params_optuna)\n",
    "    model.fit(X_train,\n",
    "              y_train,\n",
    "              eval_set= [(X_val,y_val)],\n",
    "              early_stopping_rounds = 50,\n",
    "              verbose=500)\n",
    "\n",
    "    pred_val = model.predict(X_val)\n",
    "\n",
    "    score = cohen_kappa_score(y_val,pred_val, weights='quadratic')\n",
    "    fold_scores.append(score)\n",
    "    return np.mean(fold_scores)\n",
    "\n",
    "\n",
    "study = optuna.create_study(direction='maximize', sampler = TPESampler())\n",
    "study.optimize(func=objective2, n_trials=1000)\n",
    "print(study.best_params)"
   ]
  },
  {
   "cell_type": "code",
   "execution_count": null,
   "id": "ae77d035-8e2d-45c4-8ea6-9651706f3377",
   "metadata": {},
   "outputs": [],
   "source": [
    "params_lgbm= {'lambda_l1': 0.724496036820687,\n",
    "              'lambda_l2': 6.105851140217601,\n",
    "              'num_leaves': 51,\n",
    "              'feature_fraction': 0.6304230274320266,\n",
    "              'bagging_fraction': 0.7631527827164979,\n",
    "              'bagging_freq': 8,\n",
    "              'min_child_samples': 49,\n",
    "              'min_data_in_leaf': 1,\n",
    "              'max_depth': 17,\n",
    "              'num_iterations': 5864,\n",
    "              'n_cv': 5}\n",
    "\n",
    "#0.5730556885663888."
   ]
  },
  {
   "cell_type": "raw",
   "id": "772cf058-6c82-4b12-8f7f-d9aca62c076a",
   "metadata": {},
   "source": [
    "def objective3(trial):\n",
    "    target_clases = train[\"quality\"].value_counts()\n",
    "    n_classes = target_clases.nunique()\n",
    "    params_optuna = {\n",
    "             'max_depth': trial.suggest_int('max_depth', 1, 100),\n",
    "             'min_samples_split': trial.suggest_int('min_samples_split', 2, 100),\n",
    "             'min_samples_leaf': trial.suggest_int('min_samples_leaf', 1, 100),\n",
    "             'min_weight_fraction_leaf': trial.suggest_float('bagging_fraction', 0, 1),\n",
    "             'max_features': trial.suggest_int('max_features',1,12),\n",
    "             'max_leaf_nodes': trial.suggest_int('min_child_samples', 1, 100),\n",
    "             'min_impurity_decrease': trial.suggest_int('min_data_in_leaf', 1, 100),\n",
    "             'num_iterations':trial.suggest_int('num_iterations', 100, 10000),\n",
    "        }\n",
    "    \n",
    "    n=trial.suggest_int('n_cv', 3, 10)\n",
    "    cv = StratifiedKFold(n,shuffle=True, random_state=42)\n",
    "    fold_scores = []\n",
    "    model = RandomForestClassifier(**params_optuna)\n",
    "    model.fit(X_train,\n",
    "              y_train,\n",
    "              eval_set= [(X_val,y_val)],\n",
    "              early_stopping_rounds = 50,\n",
    "              verbose=500)\n",
    "\n",
    "    pred_val = model.predict(X_val)\n",
    "\n",
    "    score = cohen_kappa_score(y_val,pred_val, weights='quadratic')\n",
    "    fold_scores.append(score)\n",
    "    return np.mean(fold_scores)\n",
    "\n",
    "\n",
    "study = optuna.create_study(direction='maximize', sampler = TPESampler())\n",
    "study.optimize(func=objective2, n_trials=1000)\n",
    "print(study.best_params)"
   ]
  },
  {
   "cell_type": "code",
   "execution_count": null,
   "id": "479e3c9b-630e-470a-a6bd-5164109d2c41",
   "metadata": {},
   "outputs": [],
   "source": [
    "from sklearn.pipeline import Pipeline\n",
    "from sklearn import preprocessing\n",
    "from sklearn.model_selection import GridSearchCV,RandomizedSearchCV\n",
    "from sklearn.ensemble import RandomForestClassifier\n",
    "from sklearn.metrics import classification_report\n",
    "\n",
    "# Number of trees in random forest\n",
    "n_estimators = [int(x) for x in np.linspace(start = 100, stop = 1000, num = 10)]\n",
    "\n",
    "# Number of features to consider at every split\n",
    "max_features = ['auto']\n",
    "\n",
    "# Maximum number of levels in tree\n",
    "max_depth = [int(x) for x in np.linspace(5, 30, num = 5)]\n",
    "max_depth.append(None)\n",
    "\n",
    "# Minimum number of samples required to split a node\n",
    "min_samples_split = [2, 5, 10]\n",
    "\n",
    "# Minimum number of samples required at each leaf node\n",
    "min_samples_leaf = [1, 2, 4, 8]\n",
    "\n",
    "# Method of selecting samples for training each tree\n",
    "bootstrap = [True]\n",
    "\n",
    "# Create the random grid\n",
    "random_grid = {'n_estimators': n_estimators,\n",
    "               'max_features': max_features,\n",
    "               'max_depth': max_depth,\n",
    "               'min_samples_split': min_samples_split,\n",
    "               'min_samples_leaf': min_samples_leaf,\n",
    "               'bootstrap': bootstrap}\n",
    "\n",
    "rf = RandomForestClassifier()\n",
    "\n",
    "random = GridSearchCV(estimator = rf, param_grid= random_grid, cv = 3, verbose=200, n_jobs = -1)\n",
    "random.fit(X_train,y_train)\n",
    "# print best parameter after tuning\n",
    "print(grid.best_params_)\n",
    "# print how our model looks after hyper-parameter tuning\n",
    "print(grid.best_estimator_)\n",
    "grid_predictions = grid.predict(X_val)\n",
    "print(classification_report(y_val, grid_predictions))"
   ]
  },
  {
   "cell_type": "code",
   "execution_count": null,
   "id": "0f583426-2ca3-4a00-a790-0759349fcf08",
   "metadata": {},
   "outputs": [],
   "source": [
    "# print best parameter after tuning\n",
    "print(random.best_params_)\n",
    "# print how our model looks after hyper-parameter tuning\n",
    "print(random.best_estimator_)\n",
    "grid_predictions = random.predict(X_val)\n",
    "print(classification_report(y_val, grid_predictions))"
   ]
  },
  {
   "cell_type": "code",
   "execution_count": null,
   "id": "109d709e-d800-4775-818c-903700612301",
   "metadata": {},
   "outputs": [],
   "source": [
    "params_rf = {'bootstrap': True, 'max_depth': 17, 'max_features': 'auto', 'min_samples_leaf': 2, 'min_samples_split': 2, 'n_estimators': 200}"
   ]
  },
  {
   "cell_type": "code",
   "execution_count": null,
   "id": "e42e79f0-9914-4fdb-95e5-39d2a9efd853",
   "metadata": {},
   "outputs": [],
   "source": [
    "train.drop(columns='Id',inplace=True)"
   ]
  },
  {
   "cell_type": "code",
   "execution_count": null,
   "id": "309de284-51cc-4ce1-8e6e-be2fd0a73844",
   "metadata": {},
   "outputs": [],
   "source": [
    "test.drop(columns='Id',inplace=True)"
   ]
  },
  {
   "cell_type": "code",
   "execution_count": null,
   "id": "80fc7e74-45b8-47dc-a098-574398a0c6d7",
   "metadata": {},
   "outputs": [],
   "source": [
    "features = list(X_train.columns)\n",
    "TARGET = 'quality'\n",
    "k=50\n",
    "cv = StratifiedKFold(k, shuffle=True, random_state=42)\n",
    "fold_scores = []\n",
    "test_preds = []\n",
    "oof_preds = []\n",
    "oof_true = []\n",
    "for i, (train_idx,val_idx) in enumerate(cv.split(train[features],\n",
    "                                                 train[TARGET])):\n",
    "    \n",
    "    X_train = train.loc[train_idx, features]\n",
    "    y_train = train.loc[train_idx, TARGET]\n",
    "    X_val = train.loc[val_idx, features]\n",
    "    y_val = train.loc[val_idx, TARGET]\n",
    "    \n",
    "    #**************XGB***************\n",
    "    model1 = XGBClassifier(**params_xgb)\n",
    "    model1.fit(X_train,\n",
    "             y_train,\n",
    "             eval_set= [(X_val,y_val)],\n",
    "             early_stopping_rounds = 200,\n",
    "             verbose=200)\n",
    "    \n",
    "    pred_val1 = model1.predict(X_val)\n",
    "    \n",
    "    score1 = cohen_kappa_score(y_val,pred_val1, weights='quadratic')\n",
    "    #discard the predictions of poor performing models\n",
    "    if score1>0.36:\n",
    "        test_preds.append(model1.predict(test[features]))\n",
    "        fold_scores.append(score1)\n",
    "    \n",
    "    #************** Light GBM **************\n",
    "    model2 = LGBMClassifier(**params_lgbm)\n",
    "    model2.fit(X_train,\n",
    "             y_train,\n",
    "             eval_set= [(X_val,y_val)],\n",
    "             early_stopping_rounds = 200,\n",
    "             verbose=200)\n",
    "    \n",
    "    pred_val2 = model2.predict(X_val)\n",
    "    \n",
    "    score2 = cohen_kappa_score(y_val,pred_val2, weights='quadratic')\n",
    "    #discard the predictions of poor performing models\n",
    "    if score2>0.36:\n",
    "        test_preds.append(model2.predict(test[features]))\n",
    "        fold_scores.append(score2)\n",
    "    #****************RANDOM FOREST******************\n",
    "    model3=RandomForestClassifier(**params_rf)\n",
    "    model3.fit(X_train,y_train)\n",
    "    pred_val3 = model3.predict(X_val)\n",
    "    score3 = cohen_kappa_score(y_val,pred_val3, weights='quadratic')\n",
    "    \n",
    "    \n",
    "    ###OOF###\n",
    "    oof_preds.extend(np.mean([pred_val1,pred_val2,pred_val3],axis=0))\n",
    "    oof_true.extend(y_val)\n",
    "    print(f'=== Fold {i} Cohen Kappa Score {np.mean([score1,score2,score3])} ===')\n",
    "\n",
    "print(f'=== Average Cohen Kappa Score {np.mean(fold_scores)} ===')"
   ]
  },
  {
   "cell_type": "code",
   "execution_count": null,
   "id": "9330f5f4-b164-4229-849d-c0358316bc0a",
   "metadata": {},
   "outputs": [],
   "source": [
    "class OptunaRounder:\n",
    "\n",
    "    def __init__(self, y_true, y_pred):\n",
    "        self.y_true = y_true\n",
    "        self.y_pred = y_pred\n",
    "        self.labels = np.unique(y_true)\n",
    "\n",
    "    def __call__(self, trial):\n",
    "        thresholds = []\n",
    "        for i in range(len(self.labels) - 1):\n",
    "            low = max(thresholds) if i > 0 else min(self.labels)\n",
    "            high = max(self.labels)\n",
    "            t = trial.suggest_float(f't{i}', low, high)\n",
    "            thresholds.append(t)\n",
    "        try:\n",
    "            opt_y_pred = self.adjust(self.y_pred, thresholds)\n",
    "        except: return 0\n",
    "        return cohen_kappa_score(self.y_true, opt_y_pred, weights='quadratic')\n",
    "\n",
    "    def adjust(self, y_pred, thresholds):\n",
    "        opt_y_pred = pd.cut(y_pred,\n",
    "                            [-np.inf] + thresholds + [np.inf],\n",
    "                            labels=self.labels)\n",
    "        return opt_y_pred"
   ]
  },
  {
   "cell_type": "code",
   "execution_count": null,
   "id": "b57a8534-f79f-4aaa-ae20-042820a5730d",
   "metadata": {},
   "outputs": [],
   "source": [
    "optuna.logging.set_verbosity(optuna.logging.WARNING) \n",
    "objective = OptunaRounder(oof_true, oof_preds)\n",
    "study = optuna.create_study(direction=\"maximize\", sampler=optuna.samplers.TPESampler(seed=42))\n",
    "study.optimize(objective, timeout=100)"
   ]
  },
  {
   "cell_type": "code",
   "execution_count": null,
   "id": "accd1f47-b8e7-41b0-9670-53f33435eac2",
   "metadata": {},
   "outputs": [],
   "source": [
    "best_thresholds = sorted(study.best_params.values())\n",
    "print(f'Optimized thresholds: {best_thresholds}')\n",
    "test_preds = np.array(test_preds).mean(axis=0) \n",
    "opt_test_preds = objective.adjust(test_preds, best_thresholds).astype(int) +3\n",
    "Id[\"quality\"]=opt_test_preds\n",
    "print(Id.head(3))"
   ]
  },
  {
   "cell_type": "code",
   "execution_count": null,
   "id": "33e264b7-d1bd-42aa-a93d-00720c8a0708",
   "metadata": {},
   "outputs": [],
   "source": [
    "Id['quality'].value_counts()"
   ]
  },
  {
   "cell_type": "code",
   "execution_count": null,
   "id": "f833ec4c-61ad-42ab-af81-91210ef96e65",
   "metadata": {},
   "outputs": [],
   "source": [
    "Id.to_csv(\"sample_submission.csv\",index=False)"
   ]
  },
  {
   "cell_type": "code",
   "execution_count": null,
   "id": "4f8614df-d67d-4b30-a253-21f0b8943b7e",
   "metadata": {},
   "outputs": [],
   "source": []
  },
  {
   "cell_type": "code",
   "execution_count": null,
   "id": "06d29e3f-85e1-47be-b356-e16fc92d9f3e",
   "metadata": {},
   "outputs": [],
   "source": []
  },
  {
   "cell_type": "code",
   "execution_count": null,
   "id": "cbd9bd52-605d-469d-b2df-6e5a281f6c51",
   "metadata": {},
   "outputs": [],
   "source": []
  },
  {
   "cell_type": "code",
   "execution_count": null,
   "id": "d58d65c6-701a-40c0-8e49-53b056eb1afb",
   "metadata": {},
   "outputs": [],
   "source": []
  },
  {
   "cell_type": "code",
   "execution_count": null,
   "id": "1bc1b538-d11b-4548-989d-e8c6ccd3ffd6",
   "metadata": {},
   "outputs": [],
   "source": []
  },
  {
   "cell_type": "code",
   "execution_count": null,
   "id": "2d0aac78-870b-45f0-bca8-44524828aed0",
   "metadata": {},
   "outputs": [],
   "source": []
  },
  {
   "cell_type": "code",
   "execution_count": null,
   "id": "0b4189d6-80ac-407a-8521-bdc47ce6780d",
   "metadata": {},
   "outputs": [],
   "source": []
  }
 ],
 "metadata": {
  "kernelspec": {
   "display_name": "Python 3 (ipykernel)",
   "language": "python",
   "name": "python3"
  },
  "language_info": {
   "codemirror_mode": {
    "name": "ipython",
    "version": 3
   },
   "file_extension": ".py",
   "mimetype": "text/x-python",
   "name": "python",
   "nbconvert_exporter": "python",
   "pygments_lexer": "ipython3",
   "version": "3.9.7"
  }
 },
 "nbformat": 4,
 "nbformat_minor": 5
}
